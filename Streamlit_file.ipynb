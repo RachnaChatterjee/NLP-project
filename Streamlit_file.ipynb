{
 "cells": [
  {
   "cell_type": "code",
   "execution_count": 35,
   "id": "eae9fd73",
   "metadata": {
    "ExecuteTime": {
     "end_time": "2023-04-13T06:29:21.559568Z",
     "start_time": "2023-04-13T06:29:20.899018Z"
    }
   },
   "outputs": [
    {
     "name": "stderr",
     "output_type": "stream",
     "text": [
      "[nltk_data] Downloading package punkt to\n",
      "[nltk_data]     C:\\Users\\HP\\AppData\\Roaming\\nltk_data...\n",
      "[nltk_data]   Package punkt is already up-to-date!\n",
      "[nltk_data] Downloading package wordnet to\n",
      "[nltk_data]     C:\\Users\\HP\\AppData\\Roaming\\nltk_data...\n",
      "[nltk_data]   Package wordnet is already up-to-date!\n",
      "[nltk_data] Downloading package stopwords to\n",
      "[nltk_data]     C:\\Users\\HP\\AppData\\Roaming\\nltk_data...\n",
      "[nltk_data]   Package stopwords is already up-to-date!\n"
     ]
    }
   ],
   "source": [
    "import pandas as pd\n",
    "import numpy as np\n",
    "import spacy\n",
    "from matplotlib.pyplot import imread\n",
    "from matplotlib import pyplot as plt\n",
    "from wordcloud import WordCloud\n",
    "%matplotlib inline  \n",
    "\n",
    "import nltk\n",
    "nltk.download('punkt')\n",
    "nltk.download('wordnet')\n",
    "nltk.download('stopwords')\n",
    "\n",
    "from nltk.stem import WordNetLemmatizer\n",
    "from nltk import word_tokenize\n",
    "from nltk.corpus import stopwords\n",
    "\n",
    "from sklearn.model_selection import train_test_split\n",
    "from sklearn.feature_extraction.text import TfidfVectorizer\n",
    "from sklearn.metrics import confusion_matrix, accuracy_score, classification_report"
   ]
  },
  {
   "cell_type": "code",
   "execution_count": 36,
   "id": "d3c9b04d",
   "metadata": {
    "ExecuteTime": {
     "end_time": "2023-04-13T06:29:21.732115Z",
     "start_time": "2023-04-13T06:29:21.559568Z"
    }
   },
   "outputs": [],
   "source": [
    "df = pd.read_csv(\"preprocessed_kindle_review[1].csv\")"
   ]
  },
  {
   "cell_type": "code",
   "execution_count": 37,
   "id": "f1bf27ec",
   "metadata": {
    "ExecuteTime": {
     "end_time": "2023-04-13T06:29:21.764663Z",
     "start_time": "2023-04-13T06:29:21.732115Z"
    }
   },
   "outputs": [
    {
     "data": {
      "text/html": [
       "<div>\n",
       "<style scoped>\n",
       "    .dataframe tbody tr th:only-of-type {\n",
       "        vertical-align: middle;\n",
       "    }\n",
       "\n",
       "    .dataframe tbody tr th {\n",
       "        vertical-align: top;\n",
       "    }\n",
       "\n",
       "    .dataframe thead th {\n",
       "        text-align: right;\n",
       "    }\n",
       "</style>\n",
       "<table border=\"1\" class=\"dataframe\">\n",
       "  <thead>\n",
       "    <tr style=\"text-align: right;\">\n",
       "      <th></th>\n",
       "      <th>Unnamed: 0</th>\n",
       "      <th>rating</th>\n",
       "      <th>reviewText</th>\n",
       "      <th>summary</th>\n",
       "    </tr>\n",
       "  </thead>\n",
       "  <tbody>\n",
       "    <tr>\n",
       "      <th>0</th>\n",
       "      <td>0</td>\n",
       "      <td>5</td>\n",
       "      <td>This book was the very first bookmobile book I...</td>\n",
       "      <td>50 + years ago...</td>\n",
       "    </tr>\n",
       "    <tr>\n",
       "      <th>1</th>\n",
       "      <td>1</td>\n",
       "      <td>1</td>\n",
       "      <td>When I read the description for this book, I c...</td>\n",
       "      <td>Boring! Boring! Boring!</td>\n",
       "    </tr>\n",
       "    <tr>\n",
       "      <th>2</th>\n",
       "      <td>2</td>\n",
       "      <td>5</td>\n",
       "      <td>I just had to edit this review. This book is a...</td>\n",
       "      <td>Wiggleliscious/new toy ready/!!</td>\n",
       "    </tr>\n",
       "    <tr>\n",
       "      <th>3</th>\n",
       "      <td>3</td>\n",
       "      <td>5</td>\n",
       "      <td>I don't normally buy 'mystery' novels because ...</td>\n",
       "      <td>Very good read.</td>\n",
       "    </tr>\n",
       "    <tr>\n",
       "      <th>4</th>\n",
       "      <td>4</td>\n",
       "      <td>5</td>\n",
       "      <td>This isn't the kind of book I normally read, a...</td>\n",
       "      <td>Great Story!</td>\n",
       "    </tr>\n",
       "    <tr>\n",
       "      <th>...</th>\n",
       "      <td>...</td>\n",
       "      <td>...</td>\n",
       "      <td>...</td>\n",
       "      <td>...</td>\n",
       "    </tr>\n",
       "    <tr>\n",
       "      <th>11995</th>\n",
       "      <td>11995</td>\n",
       "      <td>2</td>\n",
       "      <td>Had to read certain passages twice--typos.  Wi...</td>\n",
       "      <td>Where's the meat?</td>\n",
       "    </tr>\n",
       "    <tr>\n",
       "      <th>11996</th>\n",
       "      <td>11996</td>\n",
       "      <td>3</td>\n",
       "      <td>Not what i expected. yet a very interesting bo...</td>\n",
       "      <td>Interesting</td>\n",
       "    </tr>\n",
       "    <tr>\n",
       "      <th>11997</th>\n",
       "      <td>11997</td>\n",
       "      <td>5</td>\n",
       "      <td>Dragon Knights is a world where Knights ride d...</td>\n",
       "      <td>Dragon Knights, Wings of Change (I Dream of Dr...</td>\n",
       "    </tr>\n",
       "    <tr>\n",
       "      <th>11998</th>\n",
       "      <td>11998</td>\n",
       "      <td>4</td>\n",
       "      <td>Since this story is very short, it's hard to s...</td>\n",
       "      <td>Good writing, short story</td>\n",
       "    </tr>\n",
       "    <tr>\n",
       "      <th>11999</th>\n",
       "      <td>11999</td>\n",
       "      <td>4</td>\n",
       "      <td>from 1922 an amazing collection of info on sym...</td>\n",
       "      <td>interesting public domain book</td>\n",
       "    </tr>\n",
       "  </tbody>\n",
       "</table>\n",
       "<p>12000 rows × 4 columns</p>\n",
       "</div>"
      ],
      "text/plain": [
       "       Unnamed: 0  rating                                         reviewText  \\\n",
       "0               0       5  This book was the very first bookmobile book I...   \n",
       "1               1       1  When I read the description for this book, I c...   \n",
       "2               2       5  I just had to edit this review. This book is a...   \n",
       "3               3       5  I don't normally buy 'mystery' novels because ...   \n",
       "4               4       5  This isn't the kind of book I normally read, a...   \n",
       "...           ...     ...                                                ...   \n",
       "11995       11995       2  Had to read certain passages twice--typos.  Wi...   \n",
       "11996       11996       3  Not what i expected. yet a very interesting bo...   \n",
       "11997       11997       5  Dragon Knights is a world where Knights ride d...   \n",
       "11998       11998       4  Since this story is very short, it's hard to s...   \n",
       "11999       11999       4  from 1922 an amazing collection of info on sym...   \n",
       "\n",
       "                                                 summary  \n",
       "0                                      50 + years ago...  \n",
       "1                                Boring! Boring! Boring!  \n",
       "2                        Wiggleliscious/new toy ready/!!  \n",
       "3                                        Very good read.  \n",
       "4                                           Great Story!  \n",
       "...                                                  ...  \n",
       "11995                                  Where's the meat?  \n",
       "11996                                        Interesting  \n",
       "11997  Dragon Knights, Wings of Change (I Dream of Dr...  \n",
       "11998                          Good writing, short story  \n",
       "11999                     interesting public domain book  \n",
       "\n",
       "[12000 rows x 4 columns]"
      ]
     },
     "execution_count": 37,
     "metadata": {},
     "output_type": "execute_result"
    }
   ],
   "source": [
    "df"
   ]
  },
  {
   "cell_type": "code",
   "execution_count": 38,
   "id": "9900e9a4",
   "metadata": {
    "ExecuteTime": {
     "end_time": "2023-04-13T06:29:21.796421Z",
     "start_time": "2023-04-13T06:29:21.764663Z"
    }
   },
   "outputs": [
    {
     "data": {
      "text/html": [
       "<div>\n",
       "<style scoped>\n",
       "    .dataframe tbody tr th:only-of-type {\n",
       "        vertical-align: middle;\n",
       "    }\n",
       "\n",
       "    .dataframe tbody tr th {\n",
       "        vertical-align: top;\n",
       "    }\n",
       "\n",
       "    .dataframe thead th {\n",
       "        text-align: right;\n",
       "    }\n",
       "</style>\n",
       "<table border=\"1\" class=\"dataframe\">\n",
       "  <thead>\n",
       "    <tr style=\"text-align: right;\">\n",
       "      <th></th>\n",
       "      <th>Unnamed: 0</th>\n",
       "      <th>rating</th>\n",
       "      <th>reviewText</th>\n",
       "      <th>summary</th>\n",
       "    </tr>\n",
       "  </thead>\n",
       "  <tbody>\n",
       "    <tr>\n",
       "      <th>0</th>\n",
       "      <td>0</td>\n",
       "      <td>0</td>\n",
       "      <td>This book was the very first bookmobile book I...</td>\n",
       "      <td>50 + years ago...</td>\n",
       "    </tr>\n",
       "    <tr>\n",
       "      <th>1</th>\n",
       "      <td>1</td>\n",
       "      <td>1</td>\n",
       "      <td>When I read the description for this book, I c...</td>\n",
       "      <td>Boring! Boring! Boring!</td>\n",
       "    </tr>\n",
       "    <tr>\n",
       "      <th>2</th>\n",
       "      <td>2</td>\n",
       "      <td>0</td>\n",
       "      <td>I just had to edit this review. This book is a...</td>\n",
       "      <td>Wiggleliscious/new toy ready/!!</td>\n",
       "    </tr>\n",
       "    <tr>\n",
       "      <th>3</th>\n",
       "      <td>3</td>\n",
       "      <td>0</td>\n",
       "      <td>I don't normally buy 'mystery' novels because ...</td>\n",
       "      <td>Very good read.</td>\n",
       "    </tr>\n",
       "    <tr>\n",
       "      <th>4</th>\n",
       "      <td>4</td>\n",
       "      <td>0</td>\n",
       "      <td>This isn't the kind of book I normally read, a...</td>\n",
       "      <td>Great Story!</td>\n",
       "    </tr>\n",
       "    <tr>\n",
       "      <th>...</th>\n",
       "      <td>...</td>\n",
       "      <td>...</td>\n",
       "      <td>...</td>\n",
       "      <td>...</td>\n",
       "    </tr>\n",
       "    <tr>\n",
       "      <th>11995</th>\n",
       "      <td>11995</td>\n",
       "      <td>1</td>\n",
       "      <td>Had to read certain passages twice--typos.  Wi...</td>\n",
       "      <td>Where's the meat?</td>\n",
       "    </tr>\n",
       "    <tr>\n",
       "      <th>11996</th>\n",
       "      <td>11996</td>\n",
       "      <td>0</td>\n",
       "      <td>Not what i expected. yet a very interesting bo...</td>\n",
       "      <td>Interesting</td>\n",
       "    </tr>\n",
       "    <tr>\n",
       "      <th>11997</th>\n",
       "      <td>11997</td>\n",
       "      <td>0</td>\n",
       "      <td>Dragon Knights is a world where Knights ride d...</td>\n",
       "      <td>Dragon Knights, Wings of Change (I Dream of Dr...</td>\n",
       "    </tr>\n",
       "    <tr>\n",
       "      <th>11998</th>\n",
       "      <td>11998</td>\n",
       "      <td>0</td>\n",
       "      <td>Since this story is very short, it's hard to s...</td>\n",
       "      <td>Good writing, short story</td>\n",
       "    </tr>\n",
       "    <tr>\n",
       "      <th>11999</th>\n",
       "      <td>11999</td>\n",
       "      <td>0</td>\n",
       "      <td>from 1922 an amazing collection of info on sym...</td>\n",
       "      <td>interesting public domain book</td>\n",
       "    </tr>\n",
       "  </tbody>\n",
       "</table>\n",
       "<p>12000 rows × 4 columns</p>\n",
       "</div>"
      ],
      "text/plain": [
       "       Unnamed: 0  rating                                         reviewText  \\\n",
       "0               0       0  This book was the very first bookmobile book I...   \n",
       "1               1       1  When I read the description for this book, I c...   \n",
       "2               2       0  I just had to edit this review. This book is a...   \n",
       "3               3       0  I don't normally buy 'mystery' novels because ...   \n",
       "4               4       0  This isn't the kind of book I normally read, a...   \n",
       "...           ...     ...                                                ...   \n",
       "11995       11995       1  Had to read certain passages twice--typos.  Wi...   \n",
       "11996       11996       0  Not what i expected. yet a very interesting bo...   \n",
       "11997       11997       0  Dragon Knights is a world where Knights ride d...   \n",
       "11998       11998       0  Since this story is very short, it's hard to s...   \n",
       "11999       11999       0  from 1922 an amazing collection of info on sym...   \n",
       "\n",
       "                                                 summary  \n",
       "0                                      50 + years ago...  \n",
       "1                                Boring! Boring! Boring!  \n",
       "2                        Wiggleliscious/new toy ready/!!  \n",
       "3                                        Very good read.  \n",
       "4                                           Great Story!  \n",
       "...                                                  ...  \n",
       "11995                                  Where's the meat?  \n",
       "11996                                        Interesting  \n",
       "11997  Dragon Knights, Wings of Change (I Dream of Dr...  \n",
       "11998                          Good writing, short story  \n",
       "11999                     interesting public domain book  \n",
       "\n",
       "[12000 rows x 4 columns]"
      ]
     },
     "execution_count": 38,
     "metadata": {},
     "output_type": "execute_result"
    }
   ],
   "source": [
    "# if rating is above 3 we will consider it as 1 else 0.\n",
    "\n",
    "df[\"rating\"] = df[\"rating\"].apply(lambda x: 1 if x < 3  else 0) # positive as 0 and negative as 1\n",
    "df"
   ]
  },
  {
   "cell_type": "code",
   "execution_count": 39,
   "id": "977e8b0c",
   "metadata": {
    "ExecuteTime": {
     "end_time": "2023-04-13T06:29:21.812045Z",
     "start_time": "2023-04-13T06:29:21.796421Z"
    }
   },
   "outputs": [
    {
     "data": {
      "text/plain": [
       "(12000, 4)"
      ]
     },
     "execution_count": 39,
     "metadata": {},
     "output_type": "execute_result"
    }
   ],
   "source": [
    "df.shape"
   ]
  },
  {
   "cell_type": "code",
   "execution_count": 40,
   "id": "50e9be5a",
   "metadata": {
    "ExecuteTime": {
     "end_time": "2023-04-13T06:29:21.827669Z",
     "start_time": "2023-04-13T06:29:21.812045Z"
    }
   },
   "outputs": [
    {
     "data": {
      "text/plain": [
       "0    8000\n",
       "1    4000\n",
       "Name: rating, dtype: int64"
      ]
     },
     "execution_count": 40,
     "metadata": {},
     "output_type": "execute_result"
    }
   ],
   "source": [
    "df['rating'].value_counts() "
   ]
  },
  {
   "cell_type": "code",
   "execution_count": 41,
   "id": "612fd28f",
   "metadata": {
    "ExecuteTime": {
     "end_time": "2023-04-13T06:29:21.874997Z",
     "start_time": "2023-04-13T06:29:21.827669Z"
    }
   },
   "outputs": [],
   "source": [
    "df.reviewText = df.reviewText.apply(lambda x: x.lower()) "
   ]
  },
  {
   "cell_type": "code",
   "execution_count": 42,
   "id": "8345bb73",
   "metadata": {
    "ExecuteTime": {
     "end_time": "2023-04-13T06:29:28.241099Z",
     "start_time": "2023-04-13T06:29:21.874997Z"
    }
   },
   "outputs": [
    {
     "name": "stdout",
     "output_type": "stream",
     "text": [
      "Requirement already satisfied: contractions in c:\\users\\hp\\anaconda3\\lib\\site-packages (0.1.73)\n",
      "Requirement already satisfied: textsearch>=0.0.21 in c:\\users\\hp\\anaconda3\\lib\\site-packages (from contractions) (0.0.24)\n",
      "Requirement already satisfied: anyascii in c:\\users\\hp\\anaconda3\\lib\\site-packages (from textsearch>=0.0.21->contractions) (0.3.2)\n",
      "Requirement already satisfied: pyahocorasick in c:\\users\\hp\\anaconda3\\lib\\site-packages (from textsearch>=0.0.21->contractions) (2.0.0)\n"
     ]
    },
    {
     "name": "stderr",
     "output_type": "stream",
     "text": [
      "WARNING: Ignoring invalid distribution -rotobuf (c:\\users\\hp\\anaconda3\\lib\\site-packages)\n",
      "WARNING: Ignoring invalid distribution -rotobuf (c:\\users\\hp\\anaconda3\\lib\\site-packages)\n",
      "WARNING: Ignoring invalid distribution -rotobuf (c:\\users\\hp\\anaconda3\\lib\\site-packages)\n",
      "WARNING: Ignoring invalid distribution -rotobuf (c:\\users\\hp\\anaconda3\\lib\\site-packages)\n",
      "WARNING: Ignoring invalid distribution -rotobuf (c:\\users\\hp\\anaconda3\\lib\\site-packages)\n",
      "WARNING: Ignoring invalid distribution -rotobuf (c:\\users\\hp\\anaconda3\\lib\\site-packages)\n"
     ]
    }
   ],
   "source": [
    "! pip install contractions"
   ]
  },
  {
   "cell_type": "code",
   "execution_count": 43,
   "id": "4fec8fc3",
   "metadata": {
    "ExecuteTime": {
     "end_time": "2023-04-13T06:29:28.257226Z",
     "start_time": "2023-04-13T06:29:28.241099Z"
    }
   },
   "outputs": [],
   "source": [
    "import contractions"
   ]
  },
  {
   "cell_type": "code",
   "execution_count": 44,
   "id": "0226cc3f",
   "metadata": {
    "ExecuteTime": {
     "end_time": "2023-04-13T06:29:28.841300Z",
     "start_time": "2023-04-13T06:29:28.261037Z"
    }
   },
   "outputs": [
    {
     "data": {
      "text/plain": [
       "'this book was the very first bookmobile book i bought when i was in the school book club. i loved the story then and i bet a dollar to a donut i will love it again. if my memory serves, i bought this book in 5th grade. that would have been about 1961. i am looking forward to reliving the memories.'"
      ]
     },
     "execution_count": 44,
     "metadata": {},
     "output_type": "execute_result"
    }
   ],
   "source": [
    "def con(text):\n",
    "    expand=contractions.fix(text)\n",
    "    return expand\n",
    "df.reviewText = df.reviewText.apply(con)\n",
    "df['reviewText'][0] "
   ]
  },
  {
   "cell_type": "code",
   "execution_count": 45,
   "id": "87031891",
   "metadata": {
    "ExecuteTime": {
     "end_time": "2023-04-13T06:29:29.000088Z",
     "start_time": "2023-04-13T06:29:28.841300Z"
    }
   },
   "outputs": [
    {
     "data": {
      "text/html": [
       "<div>\n",
       "<style scoped>\n",
       "    .dataframe tbody tr th:only-of-type {\n",
       "        vertical-align: middle;\n",
       "    }\n",
       "\n",
       "    .dataframe tbody tr th {\n",
       "        vertical-align: top;\n",
       "    }\n",
       "\n",
       "    .dataframe thead th {\n",
       "        text-align: right;\n",
       "    }\n",
       "</style>\n",
       "<table border=\"1\" class=\"dataframe\">\n",
       "  <thead>\n",
       "    <tr style=\"text-align: right;\">\n",
       "      <th></th>\n",
       "      <th>Unnamed: 0</th>\n",
       "      <th>rating</th>\n",
       "      <th>reviewText</th>\n",
       "      <th>summary</th>\n",
       "    </tr>\n",
       "  </thead>\n",
       "  <tbody>\n",
       "    <tr>\n",
       "      <th>0</th>\n",
       "      <td>0</td>\n",
       "      <td>0</td>\n",
       "      <td>this book was the very first bookmobile book i...</td>\n",
       "      <td>50 + years ago...</td>\n",
       "    </tr>\n",
       "    <tr>\n",
       "      <th>1</th>\n",
       "      <td>1</td>\n",
       "      <td>1</td>\n",
       "      <td>when i read the description for this book i co...</td>\n",
       "      <td>Boring! Boring! Boring!</td>\n",
       "    </tr>\n",
       "    <tr>\n",
       "      <th>2</th>\n",
       "      <td>2</td>\n",
       "      <td>0</td>\n",
       "      <td>i just had to edit this review this book is an...</td>\n",
       "      <td>Wiggleliscious/new toy ready/!!</td>\n",
       "    </tr>\n",
       "    <tr>\n",
       "      <th>3</th>\n",
       "      <td>3</td>\n",
       "      <td>0</td>\n",
       "      <td>i do not normally buy mystery novels because i...</td>\n",
       "      <td>Very good read.</td>\n",
       "    </tr>\n",
       "    <tr>\n",
       "      <th>4</th>\n",
       "      <td>4</td>\n",
       "      <td>0</td>\n",
       "      <td>this is not the kind of book i normally read a...</td>\n",
       "      <td>Great Story!</td>\n",
       "    </tr>\n",
       "    <tr>\n",
       "      <th>...</th>\n",
       "      <td>...</td>\n",
       "      <td>...</td>\n",
       "      <td>...</td>\n",
       "      <td>...</td>\n",
       "    </tr>\n",
       "    <tr>\n",
       "      <th>11995</th>\n",
       "      <td>11995</td>\n",
       "      <td>1</td>\n",
       "      <td>had to read certain passages twicetypos  wish ...</td>\n",
       "      <td>Where's the meat?</td>\n",
       "    </tr>\n",
       "    <tr>\n",
       "      <th>11996</th>\n",
       "      <td>11996</td>\n",
       "      <td>0</td>\n",
       "      <td>not what i expected yet a very interesting boo...</td>\n",
       "      <td>Interesting</td>\n",
       "    </tr>\n",
       "    <tr>\n",
       "      <th>11997</th>\n",
       "      <td>11997</td>\n",
       "      <td>0</td>\n",
       "      <td>dragon knights is a world where knights ride d...</td>\n",
       "      <td>Dragon Knights, Wings of Change (I Dream of Dr...</td>\n",
       "    </tr>\n",
       "    <tr>\n",
       "      <th>11998</th>\n",
       "      <td>11998</td>\n",
       "      <td>0</td>\n",
       "      <td>since this story is very short it is hard to s...</td>\n",
       "      <td>Good writing, short story</td>\n",
       "    </tr>\n",
       "    <tr>\n",
       "      <th>11999</th>\n",
       "      <td>11999</td>\n",
       "      <td>0</td>\n",
       "      <td>from 1922 an amazing collection of info on sym...</td>\n",
       "      <td>interesting public domain book</td>\n",
       "    </tr>\n",
       "  </tbody>\n",
       "</table>\n",
       "<p>12000 rows × 4 columns</p>\n",
       "</div>"
      ],
      "text/plain": [
       "       Unnamed: 0  rating                                         reviewText  \\\n",
       "0               0       0  this book was the very first bookmobile book i...   \n",
       "1               1       1  when i read the description for this book i co...   \n",
       "2               2       0  i just had to edit this review this book is an...   \n",
       "3               3       0  i do not normally buy mystery novels because i...   \n",
       "4               4       0  this is not the kind of book i normally read a...   \n",
       "...           ...     ...                                                ...   \n",
       "11995       11995       1  had to read certain passages twicetypos  wish ...   \n",
       "11996       11996       0  not what i expected yet a very interesting boo...   \n",
       "11997       11997       0  dragon knights is a world where knights ride d...   \n",
       "11998       11998       0  since this story is very short it is hard to s...   \n",
       "11999       11999       0  from 1922 an amazing collection of info on sym...   \n",
       "\n",
       "                                                 summary  \n",
       "0                                      50 + years ago...  \n",
       "1                                Boring! Boring! Boring!  \n",
       "2                        Wiggleliscious/new toy ready/!!  \n",
       "3                                        Very good read.  \n",
       "4                                           Great Story!  \n",
       "...                                                  ...  \n",
       "11995                                  Where's the meat?  \n",
       "11996                                        Interesting  \n",
       "11997  Dragon Knights, Wings of Change (I Dream of Dr...  \n",
       "11998                          Good writing, short story  \n",
       "11999                     interesting public domain book  \n",
       "\n",
       "[12000 rows x 4 columns]"
      ]
     },
     "execution_count": 45,
     "metadata": {},
     "output_type": "execute_result"
    }
   ],
   "source": [
    "import re\n",
    "def remove_sp(text):\n",
    "    pattern=r'[^A-Za-z0-9\\s]'\n",
    "    text=re.sub(pattern,'',text)\n",
    "    return text\n",
    "df.reviewText=df.reviewText.apply(remove_sp)\n",
    "df "
   ]
  },
  {
   "cell_type": "code",
   "execution_count": 46,
   "id": "36248387",
   "metadata": {
    "ExecuteTime": {
     "end_time": "2023-04-13T06:29:29.015982Z",
     "start_time": "2023-04-13T06:29:29.000088Z"
    }
   },
   "outputs": [],
   "source": [
    "import string\n",
    "punctuations=list(string.punctuation)"
   ]
  },
  {
   "cell_type": "code",
   "execution_count": 47,
   "id": "9b44060d",
   "metadata": {
    "ExecuteTime": {
     "end_time": "2023-04-13T06:29:29.840565Z",
     "start_time": "2023-04-13T06:29:29.015982Z"
    }
   },
   "outputs": [],
   "source": [
    "df.reviewText=df.reviewText.apply(lambda x : \" \".join(x for x in x.split()if x not in punctuations)) "
   ]
  },
  {
   "cell_type": "code",
   "execution_count": 48,
   "id": "45dd4d74",
   "metadata": {
    "ExecuteTime": {
     "end_time": "2023-04-13T06:29:29.856686Z",
     "start_time": "2023-04-13T06:29:29.845860Z"
    }
   },
   "outputs": [],
   "source": [
    "stopword_list=stopwords.words('english')"
   ]
  },
  {
   "cell_type": "code",
   "execution_count": 49,
   "id": "fc2a1e1d",
   "metadata": {
    "ExecuteTime": {
     "end_time": "2023-04-13T06:29:29.872365Z",
     "start_time": "2023-04-13T06:29:29.859427Z"
    }
   },
   "outputs": [],
   "source": [
    "stopword_list.append('not')"
   ]
  },
  {
   "cell_type": "code",
   "execution_count": 50,
   "id": "af1dc269",
   "metadata": {
    "ExecuteTime": {
     "end_time": "2023-04-13T06:29:32.258427Z",
     "start_time": "2023-04-13T06:29:29.875074Z"
    }
   },
   "outputs": [],
   "source": [
    "df.reviewText=df.reviewText.apply(lambda x : \" \".join(x for x in x.split()if x not in stopword_list)) "
   ]
  },
  {
   "cell_type": "code",
   "execution_count": 51,
   "id": "8a2ec8e7",
   "metadata": {
    "ExecuteTime": {
     "end_time": "2023-04-13T06:29:32.277869Z",
     "start_time": "2023-04-13T06:29:32.260292Z"
    }
   },
   "outputs": [
    {
     "data": {
      "text/plain": [
       "0        book first bookmobile book bought school book ...\n",
       "1        read description book could wait read download...\n",
       "2        edit review book believe got right updated rew...\n",
       "3        normally buy mystery novels like however time ...\n",
       "4        kind book normally read although try limit cer...\n",
       "                               ...                        \n",
       "11995    read certain passages twicetypos wish built re...\n",
       "11996    expected yet interesting book usually don8216t...\n",
       "11997    dragon knights world knights ride dragons slay...\n",
       "11998    since story short hard say much without giving...\n",
       "11999    1922 amazing collection info symbols cultures ...\n",
       "Name: reviewText, Length: 12000, dtype: object"
      ]
     },
     "execution_count": 51,
     "metadata": {},
     "output_type": "execute_result"
    }
   ],
   "source": [
    "df.reviewText"
   ]
  },
  {
   "cell_type": "code",
   "execution_count": 52,
   "id": "c2efa06f",
   "metadata": {
    "ExecuteTime": {
     "end_time": "2023-04-13T06:29:34.706161Z",
     "start_time": "2023-04-13T06:29:32.277869Z"
    }
   },
   "outputs": [
    {
     "data": {
      "text/plain": [
       "['book',\n",
       " 'first',\n",
       " 'bookmobile',\n",
       " 'book',\n",
       " 'bought',\n",
       " 'school',\n",
       " 'book',\n",
       " 'club',\n",
       " 'loved',\n",
       " 'story',\n",
       " 'bet',\n",
       " 'dollar',\n",
       " 'donut',\n",
       " 'love',\n",
       " 'memory',\n",
       " 'serves',\n",
       " 'bought',\n",
       " 'book',\n",
       " '5th',\n",
       " 'grade',\n",
       " 'would',\n",
       " '1961',\n",
       " 'looking',\n",
       " 'forward',\n",
       " 'reliving',\n",
       " 'memories']"
      ]
     },
     "execution_count": 52,
     "metadata": {},
     "output_type": "execute_result"
    }
   ],
   "source": [
    "df['reviewText']=df.reviewText.apply(word_tokenize)\n",
    "df['reviewText'][0] "
   ]
  },
  {
   "cell_type": "code",
   "execution_count": 53,
   "id": "69634bbe",
   "metadata": {
    "ExecuteTime": {
     "end_time": "2023-04-13T06:29:34.721923Z",
     "start_time": "2023-04-13T06:29:34.709230Z"
    }
   },
   "outputs": [],
   "source": [
    "lemmatizer=WordNetLemmatizer()"
   ]
  },
  {
   "cell_type": "code",
   "execution_count": 54,
   "id": "088caf9a",
   "metadata": {
    "ExecuteTime": {
     "end_time": "2023-04-13T06:29:36.947264Z",
     "start_time": "2023-04-13T06:29:34.721923Z"
    }
   },
   "outputs": [],
   "source": [
    "df['reviewText']=df.reviewText.apply(lambda x:[lemmatizer.lemmatize(word) for word in x])"
   ]
  },
  {
   "cell_type": "code",
   "execution_count": 55,
   "id": "3c60ac84",
   "metadata": {
    "ExecuteTime": {
     "end_time": "2023-04-13T06:29:36.979278Z",
     "start_time": "2023-04-13T06:29:36.950633Z"
    }
   },
   "outputs": [
    {
     "data": {
      "text/html": [
       "<div>\n",
       "<style scoped>\n",
       "    .dataframe tbody tr th:only-of-type {\n",
       "        vertical-align: middle;\n",
       "    }\n",
       "\n",
       "    .dataframe tbody tr th {\n",
       "        vertical-align: top;\n",
       "    }\n",
       "\n",
       "    .dataframe thead th {\n",
       "        text-align: right;\n",
       "    }\n",
       "</style>\n",
       "<table border=\"1\" class=\"dataframe\">\n",
       "  <thead>\n",
       "    <tr style=\"text-align: right;\">\n",
       "      <th></th>\n",
       "      <th>Unnamed: 0</th>\n",
       "      <th>rating</th>\n",
       "      <th>reviewText</th>\n",
       "      <th>summary</th>\n",
       "    </tr>\n",
       "  </thead>\n",
       "  <tbody>\n",
       "    <tr>\n",
       "      <th>0</th>\n",
       "      <td>0</td>\n",
       "      <td>0</td>\n",
       "      <td>[book, first, bookmobile, book, bought, school...</td>\n",
       "      <td>50 + years ago...</td>\n",
       "    </tr>\n",
       "    <tr>\n",
       "      <th>1</th>\n",
       "      <td>1</td>\n",
       "      <td>1</td>\n",
       "      <td>[read, description, book, could, wait, read, d...</td>\n",
       "      <td>Boring! Boring! Boring!</td>\n",
       "    </tr>\n",
       "    <tr>\n",
       "      <th>2</th>\n",
       "      <td>2</td>\n",
       "      <td>0</td>\n",
       "      <td>[edit, review, book, believe, got, right, upda...</td>\n",
       "      <td>Wiggleliscious/new toy ready/!!</td>\n",
       "    </tr>\n",
       "    <tr>\n",
       "      <th>3</th>\n",
       "      <td>3</td>\n",
       "      <td>0</td>\n",
       "      <td>[normally, buy, mystery, novel, like, however,...</td>\n",
       "      <td>Very good read.</td>\n",
       "    </tr>\n",
       "    <tr>\n",
       "      <th>4</th>\n",
       "      <td>4</td>\n",
       "      <td>0</td>\n",
       "      <td>[kind, book, normally, read, although, try, li...</td>\n",
       "      <td>Great Story!</td>\n",
       "    </tr>\n",
       "    <tr>\n",
       "      <th>...</th>\n",
       "      <td>...</td>\n",
       "      <td>...</td>\n",
       "      <td>...</td>\n",
       "      <td>...</td>\n",
       "    </tr>\n",
       "    <tr>\n",
       "      <th>11995</th>\n",
       "      <td>11995</td>\n",
       "      <td>1</td>\n",
       "      <td>[read, certain, passage, twicetypos, wish, bui...</td>\n",
       "      <td>Where's the meat?</td>\n",
       "    </tr>\n",
       "    <tr>\n",
       "      <th>11996</th>\n",
       "      <td>11996</td>\n",
       "      <td>0</td>\n",
       "      <td>[expected, yet, interesting, book, usually, do...</td>\n",
       "      <td>Interesting</td>\n",
       "    </tr>\n",
       "    <tr>\n",
       "      <th>11997</th>\n",
       "      <td>11997</td>\n",
       "      <td>0</td>\n",
       "      <td>[dragon, knight, world, knight, ride, dragon, ...</td>\n",
       "      <td>Dragon Knights, Wings of Change (I Dream of Dr...</td>\n",
       "    </tr>\n",
       "    <tr>\n",
       "      <th>11998</th>\n",
       "      <td>11998</td>\n",
       "      <td>0</td>\n",
       "      <td>[since, story, short, hard, say, much, without...</td>\n",
       "      <td>Good writing, short story</td>\n",
       "    </tr>\n",
       "    <tr>\n",
       "      <th>11999</th>\n",
       "      <td>11999</td>\n",
       "      <td>0</td>\n",
       "      <td>[1922, amazing, collection, info, symbol, cult...</td>\n",
       "      <td>interesting public domain book</td>\n",
       "    </tr>\n",
       "  </tbody>\n",
       "</table>\n",
       "<p>12000 rows × 4 columns</p>\n",
       "</div>"
      ],
      "text/plain": [
       "       Unnamed: 0  rating                                         reviewText  \\\n",
       "0               0       0  [book, first, bookmobile, book, bought, school...   \n",
       "1               1       1  [read, description, book, could, wait, read, d...   \n",
       "2               2       0  [edit, review, book, believe, got, right, upda...   \n",
       "3               3       0  [normally, buy, mystery, novel, like, however,...   \n",
       "4               4       0  [kind, book, normally, read, although, try, li...   \n",
       "...           ...     ...                                                ...   \n",
       "11995       11995       1  [read, certain, passage, twicetypos, wish, bui...   \n",
       "11996       11996       0  [expected, yet, interesting, book, usually, do...   \n",
       "11997       11997       0  [dragon, knight, world, knight, ride, dragon, ...   \n",
       "11998       11998       0  [since, story, short, hard, say, much, without...   \n",
       "11999       11999       0  [1922, amazing, collection, info, symbol, cult...   \n",
       "\n",
       "                                                 summary  \n",
       "0                                      50 + years ago...  \n",
       "1                                Boring! Boring! Boring!  \n",
       "2                        Wiggleliscious/new toy ready/!!  \n",
       "3                                        Very good read.  \n",
       "4                                           Great Story!  \n",
       "...                                                  ...  \n",
       "11995                                  Where's the meat?  \n",
       "11996                                        Interesting  \n",
       "11997  Dragon Knights, Wings of Change (I Dream of Dr...  \n",
       "11998                          Good writing, short story  \n",
       "11999                     interesting public domain book  \n",
       "\n",
       "[12000 rows x 4 columns]"
      ]
     },
     "execution_count": 55,
     "metadata": {},
     "output_type": "execute_result"
    }
   ],
   "source": [
    "df"
   ]
  },
  {
   "cell_type": "code",
   "execution_count": 56,
   "id": "f27e553b",
   "metadata": {
    "ExecuteTime": {
     "end_time": "2023-04-13T06:29:37.074105Z",
     "start_time": "2023-04-13T06:29:36.983053Z"
    }
   },
   "outputs": [],
   "source": [
    "df.reviewText=df.reviewText.astype(str)"
   ]
  },
  {
   "cell_type": "code",
   "execution_count": 57,
   "id": "e202d81e",
   "metadata": {
    "ExecuteTime": {
     "end_time": "2023-04-13T06:29:37.090175Z",
     "start_time": "2023-04-13T06:29:37.077466Z"
    }
   },
   "outputs": [
    {
     "data": {
      "text/plain": [
       "(12000,)"
      ]
     },
     "execution_count": 57,
     "metadata": {},
     "output_type": "execute_result"
    }
   ],
   "source": [
    "import numpy as np\n",
    "reviewText_list = df['reviewText'].array\n",
    "reviewText_list.shape "
   ]
  },
  {
   "cell_type": "code",
   "execution_count": 58,
   "id": "453b94ab",
   "metadata": {
    "ExecuteTime": {
     "end_time": "2023-04-13T06:29:37.105855Z",
     "start_time": "2023-04-13T06:29:37.090175Z"
    }
   },
   "outputs": [],
   "source": [
    "X = df['reviewText'] \n",
    "y = df['rating'] "
   ]
  },
  {
   "cell_type": "code",
   "execution_count": 67,
   "id": "8b51b4a6",
   "metadata": {
    "ExecuteTime": {
     "end_time": "2023-04-13T07:26:51.973932Z",
     "start_time": "2023-04-13T07:26:51.944393Z"
    }
   },
   "outputs": [],
   "source": [
    "X_train, X_test, y_train, y_test = train_test_split(X, y, test_size=0.33, random_state=42)  "
   ]
  },
  {
   "cell_type": "code",
   "execution_count": 60,
   "id": "f2dfeed4",
   "metadata": {
    "ExecuteTime": {
     "end_time": "2023-04-13T06:29:37.168764Z",
     "start_time": "2023-04-13T06:29:37.153022Z"
    }
   },
   "outputs": [],
   "source": [
    "from sklearn.pipeline import Pipeline\n",
    "from sklearn.svm import SVC"
   ]
  },
  {
   "cell_type": "code",
   "execution_count": 61,
   "id": "7c0eb88b",
   "metadata": {
    "ExecuteTime": {
     "end_time": "2023-04-13T06:29:37.184788Z",
     "start_time": "2023-04-13T06:29:37.168764Z"
    }
   },
   "outputs": [],
   "source": [
    "final = Pipeline([('vect',TfidfVectorizer()),\n",
    "                 ('model',SVC(probability=True))]) "
   ]
  },
  {
   "cell_type": "code",
   "execution_count": 62,
   "id": "c87d24ea",
   "metadata": {
    "ExecuteTime": {
     "end_time": "2023-04-13T06:31:01.663466Z",
     "start_time": "2023-04-13T06:29:37.187225Z"
    }
   },
   "outputs": [
    {
     "data": {
      "text/plain": [
       "Pipeline(steps=[('vect', TfidfVectorizer()), ('model', SVC(probability=True))])"
      ]
     },
     "execution_count": 62,
     "metadata": {},
     "output_type": "execute_result"
    }
   ],
   "source": [
    "final.fit(X_train,y_train)"
   ]
  },
  {
   "cell_type": "code",
   "execution_count": 63,
   "id": "bff561f6",
   "metadata": {
    "ExecuteTime": {
     "end_time": "2023-04-13T06:31:08.988335Z",
     "start_time": "2023-04-13T06:31:01.663466Z"
    }
   },
   "outputs": [
    {
     "data": {
      "text/plain": [
       "array([0, 0, 0, ..., 1, 1, 1], dtype=int64)"
      ]
     },
     "execution_count": 63,
     "metadata": {},
     "output_type": "execute_result"
    }
   ],
   "source": [
    "y_pred = final.predict(X_test)\n",
    "y_pred"
   ]
  },
  {
   "cell_type": "code",
   "execution_count": 64,
   "id": "b17a9df1",
   "metadata": {
    "ExecuteTime": {
     "end_time": "2023-04-13T06:31:09.035889Z",
     "start_time": "2023-04-13T06:31:08.988335Z"
    }
   },
   "outputs": [
    {
     "name": "stdout",
     "output_type": "stream",
     "text": [
      "              precision    recall  f1-score   support\n",
      "\n",
      "           0       0.84      0.93      0.88      2630\n",
      "           1       0.82      0.66      0.73      1330\n",
      "\n",
      "    accuracy                           0.84      3960\n",
      "   macro avg       0.83      0.79      0.81      3960\n",
      "weighted avg       0.84      0.84      0.83      3960\n",
      "\n"
     ]
    }
   ],
   "source": [
    "print(classification_report(y_test, y_pred))  "
   ]
  },
  {
   "cell_type": "code",
   "execution_count": 65,
   "id": "e3cbfa15",
   "metadata": {
    "ExecuteTime": {
     "end_time": "2023-04-13T06:31:09.051548Z",
     "start_time": "2023-04-13T06:31:09.037207Z"
    }
   },
   "outputs": [],
   "source": [
    "import pickle"
   ]
  },
  {
   "cell_type": "code",
   "execution_count": 66,
   "id": "79c7e4f2",
   "metadata": {
    "ExecuteTime": {
     "end_time": "2023-04-13T06:31:09.083306Z",
     "start_time": "2023-04-13T06:31:09.051548Z"
    }
   },
   "outputs": [],
   "source": [
    "pickle.dump(final,open('sentiment_analysis.p','wb'))"
   ]
  },
  {
   "cell_type": "code",
   "execution_count": null,
   "id": "dfc3d5c5",
   "metadata": {},
   "outputs": [],
   "source": []
  }
 ],
 "metadata": {
  "kernelspec": {
   "display_name": "Python 3 (ipykernel)",
   "language": "python",
   "name": "python3"
  },
  "language_info": {
   "codemirror_mode": {
    "name": "ipython",
    "version": 3
   },
   "file_extension": ".py",
   "mimetype": "text/x-python",
   "name": "python",
   "nbconvert_exporter": "python",
   "pygments_lexer": "ipython3",
   "version": "3.9.13"
  }
 },
 "nbformat": 4,
 "nbformat_minor": 5
}
